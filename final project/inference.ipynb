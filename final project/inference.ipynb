{
 "cells": [
  {
   "cell_type": "code",
   "execution_count": 1,
   "metadata": {
    "collapsed": true
   },
   "outputs": [],
   "source": [
    "import numpy as np\n",
    "import numpy.matlib\n",
    "import math\n",
    "import random\n",
    "import os\n",
    "import tensorflow as tf\n",
    "import pickle\n",
    "import numpy.matlib\n",
    "import matplotlib.pyplot as plt\n",
    "import matplotlib.cm as cm\n",
    "from utils import *\n",
    "%matplotlib inline"
   ]
  },
  {
   "cell_type": "code",
   "execution_count": 2,
   "metadata": {
    "collapsed": true
   },
   "outputs": [],
   "source": [
    "# declare parameters\n",
    "# all characters the model currently support\n",
    "alphabet = ' abcdefghijklmnopqrstuvwxyzABCDEFGHIJKLMNOPQRSTUVWXYZ'\n",
    "#total recognizable vocabulary size + 1 for unknown characters\n",
    "v_len = len(alphabet) + 1\n",
    "# input text to synthesize\n",
    "text = 'hello world'\n",
    "text_length = len(text)\n",
    "# number of cells for a single layer\n",
    "# currently only support uniform cell layout\n",
    "rnn_size = 100\n",
    "# RNN timestep \n",
    "tsteps = 1\n",
    "batch_size = 1\n",
    "#tensor shape\n",
    "placeholder_shape = [None, tsteps, 3]\n",
    "#soft-window parameter\n",
    "kmixtures = 1\n",
    "#MDN parameter\n",
    "nmixtures = 8\n",
    "# misc\n",
    "save_path = './saved'\n",
    "data_dir = './data'\n",
    "bias = 1.0\n",
    "# threshold for ending a stroke\n",
    "eos_prob = 0.4\n",
    "#number of total layers, at least 2, the model pretrained has 3 layers\n",
    "num_layers = 3"
   ]
  },
  {
   "cell_type": "code",
   "execution_count": 3,
   "metadata": {
    "collapsed": true
   },
   "outputs": [],
   "source": [
    "# initial weight vector proposed in Alex_Graves Paper\n",
    "LSTM_initializer = tf.truncated_normal_initializer(mean=0., stddev=.075, seed=None, dtype=tf.float32)\n",
    "\n",
    "window_b_initializer = tf.truncated_normal_initializer(mean=-3.0, stddev=.25, seed=None, dtype=tf.float32)\n",
    "\n",
    "#initialize cells for multiple layers(at least 2)\n",
    "cell = [None] * num_layers\n",
    "\n",
    "for i in range(num_layers) :\n",
    "    cell[i] = tf.contrib.rnn.LSTMCell(rnn_size, state_is_tuple=True, initializer=LSTM_initializer)\n"
   ]
  },
  {
   "cell_type": "code",
   "execution_count": 4,
   "metadata": {
    "collapsed": true
   },
   "outputs": [],
   "source": [
    "# tf placeholder\n",
    "input_data = tf.placeholder(dtype=tf.float32, shape=placeholder_shape)\n",
    "output_data = tf.placeholder(dtype=tf.float32, shape=placeholder_shape)\n",
    "\n",
    "#corresponding tensors\n",
    "#i : initial state\n",
    "#f : final state\n",
    "#o : layer output\n",
    "istate_cell = [None] *num_layers\n",
    "outs_cell = [None] * num_layers\n",
    "fstate_cell = [None] * num_layers\n",
    "\n",
    "for i in range(num_layers) :\n",
    "    istate_cell[i] = cell[i].zero_state(batch_size=batch_size, dtype=tf.float32)\n",
    "    \n",
    "inputs = [tf.squeeze(i, [1]) for i in tf.split(input_data, tsteps, 1)]\n",
    "\n",
    "#build first layer\n",
    "outs_cell[0], fstate_cell[0] = tf.contrib.legacy_seq2seq.rnn_decoder(inputs, istate_cell[0], cell[0], loop_function=None, scope='cell0')"
   ]
  },
  {
   "cell_type": "code",
   "execution_count": 5,
   "metadata": {
    "collapsed": true
   },
   "outputs": [],
   "source": [
    "#attention mechanism\n",
    "def get_phi(length, a, b, k):\n",
    "    u = np.linspace(0, length-1 , length) \n",
    "    e = tf.multiply(b, - tf.square(tf.subtract(k,u)))\n",
    "    phi = tf.multiply(a, tf.exp(e))\n",
    "    return tf.reduce_sum(phi, 1, keep_dims=True)\n",
    "\n",
    "# get the soft window \n",
    "def get_window(coef):\n",
    "    [a, b, k, c] = coef\n",
    "    length = c.get_shape()[1].value #number of items in sequence\n",
    "    phi = get_phi(length, a, b, k)\n",
    "    window = tf.squeeze(tf.matmul(phi,c), [1])\n",
    "    return window, phi\n",
    "\n",
    "# soft window parameters \n",
    "def get_coef(i, out_cell, kmixtures, prev_k, char_seq, reuse=True):\n",
    "    hidden = out_cell.get_shape()[1]\n",
    "    n_out = 3*kmixtures\n",
    "    with tf.variable_scope('window',reuse=reuse):\n",
    "        window_w = tf.get_variable(\"window_w\", [hidden, n_out], initializer=LSTM_initializer)\n",
    "        window_b = tf.get_variable(\"window_b\", [n_out], initializer=window_b_initializer)\n",
    "    co = tf.nn.xw_plus_b(out_cell, window_w, window_b) \n",
    "    abk = tf.exp(tf.reshape(co, [-1, 3*kmixtures,1]))\n",
    "    a, b, k = tf.split(abk, 3, 1) \n",
    "    k = k + prev_k\n",
    "    return a, b, k, char_seq\n"
   ]
  },
  {
   "cell_type": "code",
   "execution_count": 6,
   "metadata": {
    "collapsed": true
   },
   "outputs": [],
   "source": [
    "# MDN above the last LSTM layer\n",
    "def gaussian2d(x1, x2, m1, m2, s1, s2, r):\n",
    "    # define gaussian mdn (eq 24, 25 from http://arxiv.org/abs/1308.0850)\n",
    "    (sub1, sub2) = (tf.subtract(x1, m1), tf.subtract(x2, m2))\n",
    "    sum_1 = tf.square(tf.div(sub1, s1)) + tf.square(tf.div(sub2, s2))    \n",
    "    Z = sum_1 - 2*tf.div(tf.multiply(rho, tf.multiply(sub1, sub2)), tf.multiply(s1, s2))\n",
    "    reg = 2*np.pi*tf.multiply(tf.multiply(s1, s2), tf.sqrt(1 - tf.square(r)))\n",
    "    gaussian = tf.div(tf.exp(tf.div(-Z,2* (1 - tf.square(r)))), reg)\n",
    "    return gaussian\n",
    "\n",
    "#coefficient for MDN layer, detail function can be found in related papers\n",
    "def get_mdn_coef(Z):\n",
    "    global pi_hat, m1_hat, m2_hat, s1_hat, s2_hat, r_hat\n",
    "    pi_hat, m1_hat, m2_hat, s1_hat, s2_hat, r_hat = tf.split(Z[:, 1:], 6, 1)\n",
    "    eos = tf.sigmoid(-1*Z[:, 0:1])\n",
    "    pi = tf.nn.softmax(pi_hat) # softmax\n",
    "    m1 = m1_hat; m2 = m2_hat # leave mu1, mu2 as they are\n",
    "    s1 = tf.exp(s1_hat); s2 = tf.exp(s2_hat) # exp for sigmas\n",
    "    r = tf.tanh(r_hat) # tanh for rho (squish between -1 and 1)\n",
    "\n",
    "    return [[eos, pi, m1_hat, m2_hat, tf.exp(s1_hat), tf.exp(s2_hat), tf.tanh(r_hat)], [pi_hat, m1_hat, m2_hat, s1_hat, s2_hat, r_hat]]\n",
    "\n",
    "def sample_gaussian2d(m1, m2, s1, s2, rho):\n",
    "    sample = np.random.multivariate_normal([m1, m2], [[s1*s1, rho*s1*s2], [rho*s1*s2, s2*s2]], 1)\n",
    "    return sample[0][0], sample[0][1]"
   ]
  },
  {
   "cell_type": "code",
   "execution_count": 7,
   "metadata": {
    "collapsed": true
   },
   "outputs": [],
   "source": [
    "#initial parameters\n",
    "init_kappa = tf.placeholder(dtype=tf.float32, shape=[None, kmixtures, 1]) \n",
    "char_seq = tf.placeholder(dtype=tf.float32, shape=[None, text_length, v_len])\n",
    "wavg_prev_kappa = init_kappa\n",
    "prev_window = char_seq[:,0,:]\n",
    "\n",
    "#add soft window to the top of the first LSTM layer \n",
    "reuse = False\n",
    "for i in range(len(outs_cell[0])):\n",
    "    coef = get_coef(i, outs_cell[0][i], kmixtures, wavg_prev_kappa, char_seq,  reuse=reuse)\n",
    "    (_, _, next_kappa, _) = coef\n",
    "    window, phi = get_window(coef)\n",
    "    #combine first layer output, soft-window, and original input text\n",
    "    outs_cell[0][i] = tf.concat((outs_cell[0][i], window, inputs[i]), 1)\n",
    "    wavg_prev_kappa = tf.reduce_mean(next_kappa, reduction_indices=1, keep_dims=True) # mean along kmixtures dimension\n",
    "    reuse = True\n",
    "\n",
    "(alpha, beta, next_kappa, _) = coef"
   ]
  },
  {
   "cell_type": "code",
   "execution_count": 8,
   "metadata": {
    "collapsed": true
   },
   "outputs": [],
   "source": [
    "#connect rest of the LSTM layers\n",
    "for i in range(1, num_layers):\n",
    "    scope = 'cell' + str(i)\n",
    "    outs_cell[i], fstate_cell[i]= tf.contrib.legacy_seq2seq.rnn_decoder(outs_cell[i-1], istate_cell[i], cell[i], \\\n",
    "                                                    loop_function=None, scope=scope) #use scope from training\n",
    "\n",
    "#final model output \n",
    "r_out = tf.reshape(tf.concat(outs_cell[num_layers - 1], 1), [-1, rnn_size])"
   ]
  },
  {
   "cell_type": "code",
   "execution_count": 9,
   "metadata": {
    "collapsed": true
   },
   "outputs": [],
   "source": [
    "#add connection layer for MDN \n",
    "n_out = 1 + nmixtures * 6 # params = end_of_stroke + 6 parameters per Gaussian\n",
    "with tf.variable_scope('mdn_dense'):\n",
    "    output_w = tf.get_variable(\"output_w\", [rnn_size, n_out], initializer=LSTM_initializer)\n",
    "    output_b = tf.get_variable(\"output_b\", [n_out], initializer=LSTM_initializer)\n",
    "\n",
    "output = tf.nn.xw_plus_b(r_out, output_w, output_b)"
   ]
  },
  {
   "cell_type": "code",
   "execution_count": 10,
   "metadata": {
    "collapsed": true
   },
   "outputs": [],
   "source": [
    "[x1_data, x2_data, eos_data] = tf.split(tf.reshape(output_data,[-1, 3]), 3, 1) #we might as well split these now\n",
    "retval = get_mdn_coef(output)\n",
    "[eos, pi, mu1, mu2, sigma1, sigma2, rho] = retval[0]\n",
    "[pi_hat, mu1_hat, mu2_hat, sigma1_hat, sigma2_hat, rho_hat] = retval[1]"
   ]
  },
  {
   "cell_type": "code",
   "execution_count": 11,
   "metadata": {},
   "outputs": [
    {
     "name": "stdout",
     "output_type": "stream",
     "text": [
      "model:./saved/model.ckpt-124500\n"
     ]
    }
   ],
   "source": [
    "#initialize sessions and load pre-trained model\n",
    "sess = tf.InteractiveSession()\n",
    "saver = tf.train.Saver(tf.global_variables())\n",
    "sess.run(tf.global_variables_initializer())\n",
    "ckpt = tf.train.get_checkpoint_state(save_path)\n",
    "model = ckpt.model_checkpoint_path\n",
    "saver.restore(sess, model)\n",
    "print(\"model:\" + model)"
   ]
  },
  {
   "cell_type": "code",
   "execution_count": 12,
   "metadata": {
    "collapsed": true
   },
   "outputs": [],
   "source": [
    "#parameters for sampling process\n",
    "one_hot = [to_one_hot(text, text_length, alphabet)]  # convert input string to one-hot vector\n",
    "c = [None] * num_layers\n",
    "h = [None] * num_layers\n",
    "for i in range(num_layers):\n",
    "    c[i] = istate_cell[i].c.eval()\n",
    "    h[i] = istate_cell[i].h.eval()\n",
    "# attention mechanism start\n",
    "kappa = np.zeros((1, kmixtures, 1))\n",
    "#first stroke\n",
    "prev_x = np.asarray([[[0, 0, 1]]], dtype=np.float32)"
   ]
  },
  {
   "cell_type": "code",
   "execution_count": 13,
   "metadata": {
    "collapsed": true,
    "scrolled": true
   },
   "outputs": [],
   "source": [
    "finished = False ; i = 0\n",
    "kappa_new = kappa\n",
    "strokes = []\n",
    "while not finished and i < 800:\n",
    "    # data feed into the network allocated above\n",
    "    feed = {input_data: prev_x, char_seq: one_hot,init_kappa: kappa_new,} \n",
    "    fetch = [pi_hat, mu1, mu2, sigma1_hat, sigma2_hat, rho, eos, \\\n",
    "             window, phi, next_kappa, wavg_prev_kappa, alpha]\n",
    "    \n",
    "    for i in range(num_layers):\n",
    "        feed[istate_cell[i].c] = c[i]\n",
    "        feed[istate_cell[i].h] = h[i]\n",
    "        fetch.append(fstate_cell[i].c)\n",
    "    \n",
    "    for i in range(num_layers):\n",
    "        fetch.append(fstate_cell[i].h)\n",
    "\n",
    "    output = sess.run(fetch, feed)\n",
    "    \n",
    "    [pi_hat_new, mu1_new, mu2_new, sigma1_hat_new, sigma2_hat_new, rho_new, eos_new, window_new, phi_new, kappa_new\\\n",
    "     , wavg_kappa_new, alpha_new] = output[0:12]\n",
    "    \n",
    "    c = output[12:12 + num_layers]\n",
    "    \n",
    "    h = output[12 + num_layers:]\n",
    "\n",
    "    #adding bias\n",
    "    sigma1 = np.exp(sigma1_hat_new - bias)\n",
    "    sigma2 = np.exp(sigma2_hat_new - bias)\n",
    "    pi_hat_new *= 1 + bias # apply bias\n",
    "    pi = np.zeros_like(pi_hat_new) # need to preallocate \n",
    "    pi[0] = np.exp(pi_hat_new[0]) / np.sum(np.exp(pi_hat_new[0]), axis=0) #apply a soft-max\n",
    "    \n",
    "    # choose a component from the MDN\n",
    "    index = np.random.choice(pi.shape[1], p=pi[0])\n",
    "    \n",
    "    #detemine if to start a new stroke\n",
    "    if eos_prob > eos_new[0][0] :\n",
    "        eos_new = 0\n",
    "    else :\n",
    "        eos_new = 1\n",
    "\n",
    "    point = sample_gaussian2d(mu1_new[0][index], mu2_new[0][index], sigma1[0][index], sigma2[0][index], rho_new[0][index])\n",
    "        \n",
    "    strokes.append([mu1_new[0][index], mu2_new[0][index], sigma1[0][index], sigma2[0][index], rho_new[0][index], eos_new])\n",
    "    \n",
    "    # check if the sequence generation has finished\n",
    "    if kappa_new[0][np.where(alpha_new[0]==np.max(alpha_new[0]))] > len(text): \n",
    "        finished = True\n",
    "                                                                        \n",
    "    # put the output back into the network\n",
    "    prev_x[0][0] = np.array(point + (eos_new, ), dtype=np.float32)\n",
    "    kappa_new = wavg_kappa_new\n",
    "    i+=1\n",
    "\n",
    "strokes = np.vstack(strokes)\n",
    "\n",
    "# the network predicts the displacements between pen points, so do a running sum over the time dimension\n",
    "strokes[:,:2] = np.cumsum(strokes[:,:2], axis=0)"
   ]
  },
  {
   "cell_type": "code",
   "execution_count": 14,
   "metadata": {},
   "outputs": [
    {
     "data": {
      "image/png": "[encoded data removed]",
      "text/plain": [
       "<matplotlib.figure.Figure at 0x7ff93c773128>"
      ]
     },
     "metadata": {},
     "output_type": "display_data"
    }
   ],
   "source": [
    "# plots the final result, from scribe\n",
    "def line_plot(strokes, title, figsize = (20,2)):\n",
    "    plt.figure(figsize=figsize)\n",
    "    eos_preds = np.where(strokes[:,-1] == 1)\n",
    "    eos_preds = [0] + list(eos_preds[0]) + [-1] #add start and end indices\n",
    "    for i in range(len(eos_preds)- 1):\n",
    "        start = eos_preds[i]+1\n",
    "        stop = eos_preds[i+1]\n",
    "        plt.plot(strokes[start:stop,0], strokes[start:stop,1],'b-', linewidth=2.0) #draw a stroke\n",
    "    plt.title(title,  fontsize=20)\n",
    "    plt.gca().invert_yaxis()\n",
    "    plt.show()\n",
    "    \n",
    "line_plot(strokes, 'Line plot: \"{}\"'.format(text), figsize=(text_length,2))"
   ]
  }
 ],
 "metadata": {
  "kernelspec": {
   "display_name": "Python 3",
   "language": "python",
   "name": "python3"
  },
  "language_info": {
   "codemirror_mode": {
    "name": "ipython",
    "version": 3
   },
   "file_extension": ".py",
   "mimetype": "text/x-python",
   "name": "python",
   "nbconvert_exporter": "python",
   "pygments_lexer": "ipython3",
   "version": "3.5.3"
  }
 },
 "nbformat": 4,
 "nbformat_minor": 2
}
